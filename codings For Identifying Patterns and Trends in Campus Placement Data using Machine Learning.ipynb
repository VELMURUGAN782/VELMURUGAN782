{
  "nbformat": 4,
  "nbformat_minor": 0,
  "metadata": {
    "colab": {
      "provenance": [],
      "toc_visible": true,
      "authorship_tag": "ABX9TyPKXQhTTJGR4TDG4/Oo2/64",
      "include_colab_link": true
    },
    "kernelspec": {
      "name": "python3",
      "display_name": "Python 3"
    },
    "language_info": {
      "name": "python"
    }
  },
  "cells": [
    {
      "cell_type": "markdown",
      "metadata": {
        "id": "view-in-github",
        "colab_type": "text"
      },
      "source": [
        "<a href=\"https://colab.research.google.com/github/VELMURUGAN782/VELMURUGAN782/blob/main/Untitled0.ipynb\" target=\"_parent\"><img src=\"https://colab.research.google.com/assets/colab-badge.svg\" alt=\"Open In Colab\"/></a>"
      ]
    },
    {
      "cell_type": "code",
      "execution_count": null,
      "metadata": {
        "id": "JYcHIcDMNT1D"
      },
      "outputs": [],
      "source": [
        "import numpy as np"
      ]
    },
    {
      "cell_type": "markdown",
      "source": [
        "# New section"
      ],
      "metadata": {
        "id": "B-WWx69dJcN1"
      }
    },
    {
      "cell_type": "code",
      "source": [
        "import pandas as pd"
      ],
      "metadata": {
        "id": "diSso38bkTfu"
      },
      "execution_count": null,
      "outputs": []
    },
    {
      "cell_type": "code",
      "source": [
        "import os"
      ],
      "metadata": {
        "id": "zWJNOyo0YqAl"
      },
      "execution_count": null,
      "outputs": []
    },
    {
      "cell_type": "code",
      "source": [
        "import seaborn as sns"
      ],
      "metadata": {
        "id": "mDYK2pfrYqym"
      },
      "execution_count": null,
      "outputs": []
    },
    {
      "cell_type": "code",
      "source": [
        "import matplotlib.pyplot as plt"
      ],
      "metadata": {
        "id": "kolX5xtpYq1d"
      },
      "execution_count": null,
      "outputs": []
    },
    {
      "cell_type": "code",
      "source": [
        "from sklearn import svm"
      ],
      "metadata": {
        "id": "D9kZS6rZYq5F"
      },
      "execution_count": null,
      "outputs": []
    },
    {
      "cell_type": "code",
      "source": [
        "from sklearn.metrics import accuracy_score"
      ],
      "metadata": {
        "id": "dh3SJmSLYq8J"
      },
      "execution_count": null,
      "outputs": []
    },
    {
      "cell_type": "code",
      "source": [
        "from sklearn.neighbors import KNeighborsClassifier"
      ],
      "metadata": {
        "id": "l-zvbTRYYq_A"
      },
      "execution_count": null,
      "outputs": []
    },
    {
      "cell_type": "code",
      "source": [
        "from sklearn import metrics "
      ],
      "metadata": {
        "id": "xuosYfngYrB8"
      },
      "execution_count": null,
      "outputs": []
    },
    {
      "cell_type": "code",
      "source": [
        "from sklearn.model_selection import cross_val_score"
      ],
      "metadata": {
        "id": "MCSjNwbTYrFA"
      },
      "execution_count": null,
      "outputs": []
    },
    {
      "cell_type": "code",
      "source": [
        "from sklearn import preprocessing\n"
      ],
      "metadata": {
        "id": "aXy-blOLYrHd"
      },
      "execution_count": null,
      "outputs": []
    },
    {
      "cell_type": "code",
      "source": [
        "from sklearn.model_selection import train_test_split\n"
      ],
      "metadata": {
        "id": "gB1zcTILYrKM"
      },
      "execution_count": null,
      "outputs": []
    },
    {
      "cell_type": "code",
      "source": [
        "from sklearn.preprocessing import StandardScaler\n"
      ],
      "metadata": {
        "id": "udGQPIBrYrNM"
      },
      "execution_count": null,
      "outputs": []
    },
    {
      "cell_type": "code",
      "source": [
        "import joblib"
      ],
      "metadata": {
        "id": "o5tlxhqeYrPs"
      },
      "execution_count": null,
      "outputs": []
    },
    {
      "cell_type": "code",
      "source": [
        "from sklearn.metrics import accuracy_score"
      ],
      "metadata": {
        "id": "kNsuv4jtYrSd"
      },
      "execution_count": null,
      "outputs": []
    },
    {
      "cell_type": "code",
      "source": [
        "df = pd.read_csv(r\"/content/collegePlace.csv\")"
      ],
      "metadata": {
        "id": "C7uK4mTLYrVN"
      },
      "execution_count": null,
      "outputs": []
    },
    {
      "cell_type": "code",
      "source": [
        "df.head()"
      ],
      "metadata": {
        "id": "WnxQWlTtYrYB"
      },
      "execution_count": null,
      "outputs": []
    },
    {
      "cell_type": "code",
      "source": [
        "df.info()"
      ],
      "metadata": {
        "id": "fxblJ638YrbJ"
      },
      "execution_count": null,
      "outputs": []
    },
    {
      "cell_type": "code",
      "source": [
        "df.isnull().sum()"
      ],
      "metadata": {
        "id": "JYTkjcEkYrdk"
      },
      "execution_count": null,
      "outputs": []
    },
    {
      "cell_type": "code",
      "source": [
        "def transformationPlot(feature):\n",
        "\n",
        "  plt.figure(figsize=(12,5))\n",
        "\n",
        "  plt.subplot(1,2,1)  \n",
        "\n",
        "  sns.distplot(df['CGPA'],color='r')\n",
        "  \n",
        "  transformationplot(np.log (df['Age']))\n",
        "\n",
        "\n"
      ],
      "metadata": {
        "id": "O7lQ7EzHYrgM"
      },
      "execution_count": null,
      "outputs": []
    },
    {
      "cell_type": "code",
      "source": [
        "df = df.replace(['Male'], [0])"
      ],
      "metadata": {
        "id": "XDX8EsaoYrtt"
      },
      "execution_count": null,
      "outputs": []
    },
    {
      "cell_type": "code",
      "source": [
        "df = df.replace(['Female'], [1])"
      ],
      "metadata": {
        "id": "AMkYEtrvaMtV"
      },
      "execution_count": null,
      "outputs": []
    },
    {
      "cell_type": "code",
      "source": [
        "df=df.replace(['Computer Science', 'Information Technolog','Electronics And Communication', 'Mechanical', 'Electrica', 'Civil'],[0,1,2,3,4,5])"
      ],
      "metadata": {
        "id": "f3sAq8YWaM2E"
      },
      "execution_count": null,
      "outputs": []
    },
    {
      "cell_type": "code",
      "source": [
        "df=df.replace(['Hostel'])"
      ],
      "metadata": {
        "id": "xkweb-s3aM5k"
      },
      "execution_count": null,
      "outputs": []
    },
    {
      "cell_type": "code",
      "source": [
        "df"
      ],
      "metadata": {
        "id": "sFFk-C7WaM8r"
      },
      "execution_count": null,
      "outputs": []
    },
    {
      "cell_type": "code",
      "source": [
        "plt.figure(figsize=(12,5))\n"
      ],
      "metadata": {
        "id": "3kl34EC2aM_1"
      },
      "execution_count": null,
      "outputs": []
    },
    {
      "cell_type": "code",
      "source": [
        "plt.subplot(121)"
      ],
      "metadata": {
        "id": "4E2zgD6XaNCk"
      },
      "execution_count": null,
      "outputs": []
    },
    {
      "cell_type": "code",
      "source": [
        "sns.distplot(df['CGPA'], color='r')"
      ],
      "metadata": {
        "id": "leNfmD8hib0a"
      },
      "execution_count": null,
      "outputs": []
    },
    {
      "cell_type": "code",
      "source": [
        "plt.figure(figsize=(12,5))"
      ],
      "metadata": {
        "id": "vVmizFXxib_R"
      },
      "execution_count": null,
      "outputs": []
    },
    {
      "cell_type": "code",
      "source": [
        "plt.subplot(121)"
      ],
      "metadata": {
        "id": "f1IRo8gCicKB"
      },
      "execution_count": null,
      "outputs": []
    },
    {
      "cell_type": "code",
      "source": [
        "sns.distplot(df[ 'PlacedOrNot'], color='r')"
      ],
      "metadata": {
        "id": "4La-W88gi7gb"
      },
      "execution_count": null,
      "outputs": []
    },
    {
      "cell_type": "code",
      "source": [
        "plt.figure(figsize=(12,5))"
      ],
      "metadata": {
        "id": "xfoX7dIwi7nx"
      },
      "execution_count": null,
      "outputs": []
    },
    {
      "cell_type": "code",
      "source": [
        " plt.subplot(121)"
      ],
      "metadata": {
        "id": "wStsOTNKi7tS"
      },
      "execution_count": null,
      "outputs": []
    },
    {
      "cell_type": "code",
      "source": [
        "sns.distplot(df[ 'PlacedOrNot'], color='r')"
      ],
      "metadata": {
        "id": "4UZ_A0wgi7vS"
      },
      "execution_count": null,
      "outputs": []
    },
    {
      "cell_type": "code",
      "source": [
        "plt.figure(figsize=(18,4))"
      ],
      "metadata": {
        "id": "AYWIcBE6i7z_"
      },
      "execution_count": null,
      "outputs": []
    },
    {
      "cell_type": "code",
      "source": [
        "plt.subplot(1,4,1)"
      ],
      "metadata": {
        "id": "_YE2o-KEi72K"
      },
      "execution_count": null,
      "outputs": []
    },
    {
      "cell_type": "code",
      "source": [
        " sns.countplot(df['Gender'])"
      ],
      "metadata": {
        "id": "CgndcS1dlp8x"
      },
      "execution_count": null,
      "outputs": []
    },
    {
      "cell_type": "code",
      "source": [
        "plt.subplot(1,4,2)"
      ],
      "metadata": {
        "id": "yXJPgah3lp_m"
      },
      "execution_count": null,
      "outputs": []
    },
    {
      "cell_type": "code",
      "source": [
        "df = sns.load_dataset(\"titanic\")"
      ],
      "metadata": {
        "id": "iUNw4yhslqCA"
      },
      "execution_count": null,
      "outputs": []
    },
    {
      "cell_type": "code",
      "source": [
        "plt.show()"
      ],
      "metadata": {
        "id": "6hv1EK5jlqEa"
      },
      "execution_count": null,
      "outputs": []
    },
    {
      "cell_type": "code",
      "source": [
        "plt.figure(figsize=(20,5))"
      ],
      "metadata": {
        "id": "qH4USswHlqGq"
      },
      "execution_count": null,
      "outputs": []
    },
    {
      "cell_type": "code",
      "source": [
        "plt.subplot(131)"
      ],
      "metadata": {
        "id": "B8r4gdy3lqI_"
      },
      "execution_count": null,
      "outputs": []
    },
    {
      "cell_type": "code",
      "source": [
        "#sns.countplot(df[\"PlacedOrNot\"],hue=df['CGPA'])"
      ],
      "metadata": {
        "id": "6jgwDnOZlqKr"
      },
      "execution_count": null,
      "outputs": []
    },
    {
      "cell_type": "code",
      "source": [
        "#sns.swarmplot(df['PlacedOrNot'],df['CGPA'],hue=df['Stream'])"
      ],
      "metadata": {
        "id": "2qR2bpRJnDCa"
      },
      "execution_count": null,
      "outputs": []
    },
    {
      "cell_type": "code",
      "source": [
        "sc=StandardScaler()"
      ],
      "metadata": {
        "id": "UElBJ57hsUDu"
      },
      "execution_count": null,
      "outputs": []
    },
    {
      "cell_type": "code",
      "source": [
        "x_bal=sc.fit_transform(x_bal)\n",
        "\n"
      ],
      "metadata": {
        "id": "n24G8s-gnDMw"
      },
      "execution_count": null,
      "outputs": []
    },
    {
      "cell_type": "code",
      "source": [
        "x_bal = pd.DataFrame(x_bal,columns=names)"
      ],
      "metadata": {
        "id": "7Ze2Yb1fnDPJ"
      },
      "execution_count": null,
      "outputs": []
    },
    {
      "cell_type": "code",
      "source": [
        "X = standardized_data\n"
      ],
      "metadata": {
        "id": "fMvT8B_KMQXC"
      },
      "execution_count": null,
      "outputs": []
    },
    {
      "cell_type": "code",
      "source": [
        "Y=df['PlacedOrNot']"
      ],
      "metadata": {
        "id": "m43bFP-TMQZ_"
      },
      "execution_count": null,
      "outputs": []
    },
    {
      "cell_type": "code",
      "source": [
        "X_train, X__test, Y_train, Y_train_test_split(X,Y test_size=0,2; stratify=Y, random_state=2)"
      ],
      "metadata": {
        "id": "fGlcex-WNAWv"
      },
      "execution_count": null,
      "outputs": []
    },
    {
      "cell_type": "code",
      "source": [
        "classifier = svm.SVC(kernel='linear')\n",
        "\n"
      ],
      "metadata": {
        "id": "tqzlc-KL6vOV"
      },
      "execution_count": null,
      "outputs": []
    },
    {
      "cell_type": "code",
      "source": [
        "classifier.fit(X_train, Y_train)\n"
      ],
      "metadata": {
        "id": "PWq8_B0T6vRL"
      },
      "execution_count": null,
      "outputs": []
    },
    {
      "cell_type": "code",
      "source": [
        "SVC(kernel='linear')"
      ],
      "metadata": {
        "id": "xByciIjk6vUD"
      },
      "execution_count": null,
      "outputs": []
    },
    {
      "cell_type": "code",
      "source": [
        "\n",
        "X_train_prediction = classifier.predict(X_train) \n"
      ],
      "metadata": {
        "id": "NRumb0j46vWb"
      },
      "execution_count": null,
      "outputs": []
    },
    {
      "cell_type": "code",
      "source": [
        "training_data_accuracy = accuracy_score (X_train_prediction, Y_train)"
      ],
      "metadata": {
        "id": "AgjHnOse6vZC"
      },
      "execution_count": null,
      "outputs": []
    },
    {
      "cell_type": "code",
      "source": [
        "print('Accuracy score of the training data: ', training_data_accuracy)"
      ],
      "metadata": {
        "id": "IjakVtjg6vb3"
      },
      "execution_count": null,
      "outputs": []
    },
    {
      "cell_type": "code",
      "source": [
        "Accuracy score of the training data: 0.7685497470489039"
      ],
      "metadata": {
        "id": "nuCKekh46veD"
      },
      "execution_count": null,
      "outputs": []
    },
    {
      "cell_type": "code",
      "source": [
        "best_k = {\"Regular\":0}"
      ],
      "metadata": {
        "id": "GM_hcrT-6vgl"
      },
      "execution_count": null,
      "outputs": []
    },
    {
      "cell_type": "code",
      "source": [
        "best_score={\"Regular\":0}"
      ],
      "metadata": {
        "id": "me5N8Qtp6vjE"
      },
      "execution_count": null,
      "outputs": []
    },
    {
      "cell_type": "code",
      "source": [
        "for k in range(3, 50, 2):"
      ],
      "metadata": {
        "id": "15dmGCOr6vlj"
      },
      "execution_count": null,
      "outputs": []
    },
    {
      "cell_type": "code",
      "source": [
        "knn_temp = KNeighborsClassifier(n_neighbors=k)"
      ],
      "metadata": {
        "id": "JPjaAnX36voI"
      },
      "execution_count": null,
      "outputs": []
    },
    {
      "cell_type": "code",
      "source": [
        "knn_temp.fit(x_train, Y_train)"
      ],
      "metadata": {
        "id": "ukReOf7X6vqz"
      },
      "execution_count": null,
      "outputs": []
    },
    {
      "cell_type": "code",
      "source": [
        "knn_temp_pred = knn_temp.predict(X_test)"
      ],
      "metadata": {
        "id": "hqzyJEIS6vtb"
      },
      "execution_count": null,
      "outputs": []
    },
    {
      "cell_type": "code",
      "source": [
        "score = metrics.accuracy_score (Y_test, knn_temp_pred)*100 #Get accuracy"
      ],
      "metadata": {
        "id": "HFSdFZue6vxu"
      },
      "execution_count": null,
      "outputs": []
    },
    {
      "cell_type": "code",
      "source": [
        "# Store best params"
      ],
      "metadata": {
        "id": "Ory9Db886v0a"
      },
      "execution_count": null,
      "outputs": []
    },
    {
      "cell_type": "code",
      "source": [
        "if score >= best_score[\"Regular\"] and score < 100: best_score[\"Regular\"] = score\n",
        "best_k[\"Regular\"] = k\n"
      ],
      "metadata": {
        "id": "hN6W9dqu6v2t"
      },
      "execution_count": null,
      "outputs": []
    },
    {
      "cell_type": "code",
      "source": [
        "best_score[\"Regular\"] = score"
      ],
      "metadata": {
        "id": "J7vR8i5Q-8yV"
      },
      "execution_count": null,
      "outputs": []
    },
    {
      "cell_type": "code",
      "source": [
        "best_k[\"Regular\"] = k"
      ],
      "metadata": {
        "id": "P50vlUtW-80_"
      },
      "execution_count": null,
      "outputs": []
    },
    {
      "cell_type": "code",
      "source": [
        "print(\"---Results---\\nk: ()\\nScore: {}\".format(best_k, best_score))"
      ],
      "metadata": {
        "id": "0I1EkhiE-85c"
      },
      "execution_count": null,
      "outputs": []
    },
    {
      "cell_type": "code",
      "source": [
        "knn=KNeighborsClassifier(n_neighbors-best_k[\"Regular\"])"
      ],
      "metadata": {
        "id": "A03jar1x-88L"
      },
      "execution_count": null,
      "outputs": []
    },
    {
      "cell_type": "code",
      "source": [
        "knn.fit(X_train, Y_train)"
      ],
      "metadata": {
        "id": "s-LEmXvm-8-o"
      },
      "execution_count": null,
      "outputs": []
    },
    {
      "cell_type": "code",
      "source": [
        "knn_pred=knn.predict(X_test)"
      ],
      "metadata": {
        "id": "Ho2DyVrv_zI0"
      },
      "execution_count": null,
      "outputs": []
    },
    {
      "cell_type": "code",
      "source": [
        " testd=accuracy_score(knn_pred, Y_test)"
      ],
      "metadata": {
        "id": "7VGvg9U6Acez"
      },
      "execution_count": null,
      "outputs": []
    },
    {
      "cell_type": "code",
      "source": [
        "import tensorflow as tf"
      ],
      "metadata": {
        "id": "fAb5rmbU_zNP"
      },
      "execution_count": null,
      "outputs": []
    },
    {
      "cell_type": "code",
      "source": [
        "from tensorflow import keras"
      ],
      "metadata": {
        "id": "LyPiFSxB-9BA"
      },
      "execution_count": null,
      "outputs": []
    },
    {
      "cell_type": "code",
      "source": [
        "from keras.models import Sequential\n"
      ],
      "metadata": {
        "id": "4Lsxl2nA-9Fs"
      },
      "execution_count": null,
      "outputs": []
    },
    {
      "cell_type": "code",
      "source": [
        "from tensorflow.keras import layers"
      ],
      "metadata": {
        "id": "g5ZrTf1ICuZU"
      },
      "execution_count": null,
      "outputs": []
    },
    {
      "cell_type": "code",
      "source": [
        "classifier=Sequential()"
      ],
      "metadata": {
        "id": "H6HcPwzHCud0"
      },
      "execution_count": null,
      "outputs": []
    },
    {
      "cell_type": "code",
      "source": [
        "add input layer and first hidden layer"
      ],
      "metadata": {
        "id": "FSAIW-BJCuhR"
      },
      "execution_count": null,
      "outputs": []
    },
    {
      "cell_type": "code",
      "source": [
        "classifier.add(keras.layers.Dense(6,activation='relu', input_din=6))"
      ],
      "metadata": {
        "id": "S8cnGGx_D7Ac"
      },
      "execution_count": null,
      "outputs": []
    },
    {
      "cell_type": "code",
      "source": [
        "classifier.add(keras.layers.Dropout (0.50))"
      ],
      "metadata": {
        "id": "RPPJqgxvCujz"
      },
      "execution_count": null,
      "outputs": []
    },
    {
      "cell_type": "code",
      "source": [
        " classifier.add(keras.layers.Dense (6, activation relu\"))\n"
      ],
      "metadata": {
        "id": "n4iFi0nFCuoj"
      },
      "execution_count": null,
      "outputs": []
    },
    {
      "cell_type": "code",
      "source": [
        "classifier.add(keras.layers.Dropout(0.50))"
      ],
      "metadata": {
        "id": "VinUMNbKCuqd"
      },
      "execution_count": null,
      "outputs": []
    },
    {
      "cell_type": "code",
      "source": [
        "classifier.add(keras.layers.Dense (6, activation ='relu', input_dim = 6)) \n",
        "\n",
        "classifier.add(keras.layers.Dropout (0.50))"
      ],
      "metadata": {
        "id": "SW-WRJHGCuuB"
      },
      "execution_count": null,
      "outputs": []
    },
    {
      "cell_type": "code",
      "source": [
        "classifier.add(keras.layers.Dense(6, activation = 'relu'))\n",
        "\n"
      ],
      "metadata": {
        "id": "FftUVIELCuv8"
      },
      "execution_count": null,
      "outputs": []
    },
    {
      "cell_type": "code",
      "source": [
        "classifier.add(keras.layers.Dropout (0.50))"
      ],
      "metadata": {
        "id": "RIgf9Q5ShlpR"
      },
      "execution_count": null,
      "outputs": []
    },
    {
      "cell_type": "code",
      "source": [
        "classifier.add(keras.layers.Dense(1, activation = 'sigmoid'))\n"
      ],
      "metadata": {
        "id": "NGT0UyDsHWS5"
      },
      "execution_count": null,
      "outputs": []
    },
    {
      "cell_type": "code",
      "source": [
        "loss_1 = tf. keras. losses.BinaryCrossentropy()"
      ],
      "metadata": {
        "id": "pjUE3kaMHWVY"
      },
      "execution_count": null,
      "outputs": []
    },
    {
      "cell_type": "code",
      "source": [
        "classifier.compile(optimizer = 'Adam', loss = loss_1, metrics = ['accuracy'])"
      ],
      "metadata": {
        "id": "sQxn-gZmHWXX"
      },
      "execution_count": null,
      "outputs": []
    },
    {
      "cell_type": "code",
      "source": [
        "classifier.fit(x_train, y_train,  batch_size = 20, epochs = 100)"
      ],
      "metadata": {
        "id": "5tqQwvSeHWZ7"
      },
      "execution_count": null,
      "outputs": []
    },
    {
      "cell_type": "code",
      "source": [
        "#import pickle"
      ],
      "metadata": {
        "id": "KmVwFSeeHWcO"
      },
      "execution_count": null,
      "outputs": []
    },
    {
      "cell_type": "code",
      "source": [
        "pickle.dump(knn, open(\"placement.pk1\", \"wb\")) \n",
        "model = pickle.load(open(\"placement.pkl', 'rb'))"
      ],
      "metadata": {
        "id": "73avC5PEHWgv"
      },
      "execution_count": null,
      "outputs": []
    },
    {
      "cell_type": "code",
      "source": [
        " <section id=\"hero\" class=\"d-flex flex-column justify-content-center\"> \n",
        "  <div class=\"container\"> \n",
        "     <div class=\"row justify-content-center\"> \n",
        "            <div class =\"col-xl-8\">\n",
        "             <h1>Identifying Patterns and Trends in Campus Placement Data using Machine Learning</h1>\n",
        "            </div> \n",
        "     </div>\n",
        "         </div>   \n",
        "</section><!-- End Hero -->\n"
      ],
      "metadata": {
        "id": "OHqjuxk6HWjB"
      },
      "execution_count": null,
      "outputs": []
    },
    {
      "cell_type": "code",
      "source": [
        "<section_id=\"about\" class=\"about\">\n",
        " <div class=\"container\">\n",
        "\n",
        "   <div class=\"section-title\">\n",
        "     <h2>Fill the details</h2>\n",
        "\n",
        "   </div>\n",
        "   <div class=\"row content\">\n",
        "\n",
        "<div class=\"first\">\n",
        "\n",
        "<form action=\"{{ url_for('y predict')}}\" method=\"POST\">\n",
        "\n",
        "<input type=\"number\" id=\"sen1\" name=\"sen1\" placeholder=\"Age\"> <input type=\"number\" id=\"sen2\" name=\"sen2\" placeholder=\"Gender M(0), F(0)\">\n",
        "\n",
        "<input type=\"number\" id=\"sen3\" name=\"sen3\" placeholder=\"Stream CS(0), IT(1), ECE (2), Mech\n",
        "\n",
        "<input type=\"number\" id=\"sen4\" name=\"sen4\" placeholder=\"Internships\">\n",
        "\n",
        "<input type=\"number\" id=\"sen5\" name=\"sen5\" placeholder=\"CGPA\">\n",
        "\n",
        "<input type=\"number\" id=\"sen6\" name=\"sen6\" placeholder=\"Number of backlogs\">\n",
        "\n",
        "<input type=\"submit\" value=\"Submit\">\n",
        "\n",
        "</form>\n",
        "\n",
        "</div>\n",
        "\n",
        "</div>\n",
        "\n",
        "</div>\n",
        "\n",
        "</section><!-- End About Us Section -->  \n"
      ],
      "metadata": {
        "id": "TyZhjp0hHWlY"
      },
      "execution_count": null,
      "outputs": []
    },
    {
      "cell_type": "code",
      "source": [
        "<section_id=\"hero\" class=\"d-flex flex-column justify-content-center\"> <div class=\"container\"> <div class=\"row justify-content-center\">\n",
        "\n",
        "<div class=\"col-xl-8\">\n",
        "\n",
        "<h1>The Prediction is: {{y}}</h1>\n",
        "\n",
        "<h3>0 represents Not-Placed </h3>\n",
        "\n",
        "<h3> 1 represents Placed<h2>\n",
        "\n",
        "</div>\n",
        "\n",
        "</div>\n",
        "\n",
        "</div> </section><!-- End Hero -->"
      ],
      "metadata": {
        "id": "WKjcJGDhHWnP"
      },
      "execution_count": null,
      "outputs": []
    },
    {
      "cell_type": "code",
      "source": [
        "from flask import Flask, render_template , request \n",
        "app=Flask (_name_)\n",
        "import pickle \n",
        "import joblib \n",
        "model=pickle.load(open(\"placement123.pkl\", 'rb')) \n",
        "ct-joblib.load('placement')"
      ],
      "metadata": {
        "id": "w0O23QrJbLoy"
      },
      "execution_count": null,
      "outputs": []
    },
    {
      "cell_type": "code",
      "source": [
        "@app.route('/') \n",
        "\n",
        "def hello():\n",
        "\n",
        "    return render_template(\"index.html\")"
      ],
      "metadata": {
        "id": "y0WnM-PsahXl"
      },
      "execution_count": null,
      "outputs": []
    },
    {
      "cell_type": "code",
      "source": [
        "@app.route('/guest', def Guest():\n",
        "\n",
        "methods = [\"POST\"])\n",
        "\n",
        "seni-request.form[\"sen1\"]\n",
        "\n",
        "sen3-request.form[\"sen3\"]\n",
        "\n",
        "sen2=request.form[\"sen2\"] sen5=request.form[\"sen5\"]\n",
        "\n",
        "sen4-request.form[\"sen4\"]\n",
        "\n",
        "sen6-request.form[\"sen6\"]\n",
        "\n",
        "Sapp.route('/y_predict', methods = [\"POST\"])\n",
        "\n",
        "def y predict(): x_test = [[(yo) for yo in request.form.values()]]\n",
        "\n",
        "prediction model.predict(x_test)\n",
        "\n",
        "prediction = prediction[0]\n",
        "\n",
        "return render_template(\"secondpage.html\",y-prediction)"
      ],
      "metadata": {
        "id": "wVYsAeakahax"
      },
      "execution_count": null,
      "outputs": []
    },
    {
      "cell_type": "code",
      "source": [
        "app.run(debug=True)"
      ],
      "metadata": {
        "id": "8Cq3huafahlx"
      },
      "execution_count": null,
      "outputs": []
    },
    {
      "cell_type": "markdown",
      "source": [
        "# New Section"
      ],
      "metadata": {
        "id": "c96py5lVNWCw"
      }
    }
  ]
}
